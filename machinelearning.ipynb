{
 "cells": [
  {
   "cell_type": "markdown",
   "id": "d371dc84-f39a-4a73-a16d-89cfd7e8e81e",
   "metadata": {},
   "source": [
    "1.import necessary libraries"
   ]
  },
  {
   "cell_type": "code",
   "execution_count": 1,
   "id": "646ad782-fb3b-450c-b623-23c7cfc1f187",
   "metadata": {},
   "outputs": [],
   "source": [
    "import pandas as pd\n",
    "from matplotlib import pyplot as plt\n",
    "import seaborn as sns\n",
    "import warnings\n",
    "warnings.filterwarnings('ignore')"
   ]
  },
  {
   "cell_type": "code",
   "execution_count": 3,
   "id": "0928ef28-3f45-4b96-8c61-640be4d420dc",
   "metadata": {},
   "outputs": [],
   "source": [
    "df=pd.read_csv(r\"C:\\Users\\91789\\Downloads\\NewspaperData.csv\")"
   ]
  },
  {
   "cell_type": "code",
   "execution_count": 5,
   "id": "974d9f32-3434-4398-a406-6c961ed9b1dc",
   "metadata": {},
   "outputs": [
    {
     "data": {
      "text/html": [
       "<div>\n",
       "<style scoped>\n",
       "    .dataframe tbody tr th:only-of-type {\n",
       "        vertical-align: middle;\n",
       "    }\n",
       "\n",
       "    .dataframe tbody tr th {\n",
       "        vertical-align: top;\n",
       "    }\n",
       "\n",
       "    .dataframe thead th {\n",
       "        text-align: right;\n",
       "    }\n",
       "</style>\n",
       "<table border=\"1\" class=\"dataframe\">\n",
       "  <thead>\n",
       "    <tr style=\"text-align: right;\">\n",
       "      <th></th>\n",
       "      <th>Newspaper</th>\n",
       "      <th>daily</th>\n",
       "      <th>sunday</th>\n",
       "    </tr>\n",
       "  </thead>\n",
       "  <tbody>\n",
       "    <tr>\n",
       "      <th>0</th>\n",
       "      <td>Baltimore Sun</td>\n",
       "      <td>391.952</td>\n",
       "      <td>488.506</td>\n",
       "    </tr>\n",
       "    <tr>\n",
       "      <th>1</th>\n",
       "      <td>Boston Globe</td>\n",
       "      <td>516.981</td>\n",
       "      <td>798.298</td>\n",
       "    </tr>\n",
       "    <tr>\n",
       "      <th>2</th>\n",
       "      <td>Boston Herald</td>\n",
       "      <td>355.628</td>\n",
       "      <td>235.084</td>\n",
       "    </tr>\n",
       "    <tr>\n",
       "      <th>3</th>\n",
       "      <td>Charlotte Observer</td>\n",
       "      <td>238.555</td>\n",
       "      <td>299.451</td>\n",
       "    </tr>\n",
       "    <tr>\n",
       "      <th>4</th>\n",
       "      <td>Chicago Sun Times</td>\n",
       "      <td>537.780</td>\n",
       "      <td>559.093</td>\n",
       "    </tr>\n",
       "  </tbody>\n",
       "</table>\n",
       "</div>"
      ],
      "text/plain": [
       "            Newspaper    daily   sunday\n",
       "0       Baltimore Sun  391.952  488.506\n",
       "1        Boston Globe  516.981  798.298\n",
       "2       Boston Herald  355.628  235.084\n",
       "3  Charlotte Observer  238.555  299.451\n",
       "4   Chicago Sun Times  537.780  559.093"
      ]
     },
     "execution_count": 5,
     "metadata": {},
     "output_type": "execute_result"
    }
   ],
   "source": [
    "df.head()"
   ]
  },
  {
   "cell_type": "code",
   "execution_count": null,
   "id": "6ffa3115-59ad-4818-878a-a33e700e76a0",
   "metadata": {},
   "outputs": [],
   "source": [
    "df=df.drop(['Newspaper'],axis=1)"
   ]
  },
  {
   "cell_type": "code",
   "execution_count": 46,
   "id": "b73a039e-fe1c-45f0-85d6-e86b7faf9599",
   "metadata": {},
   "outputs": [
    {
     "data": {
      "text/html": [
       "<div>\n",
       "<style scoped>\n",
       "    .dataframe tbody tr th:only-of-type {\n",
       "        vertical-align: middle;\n",
       "    }\n",
       "\n",
       "    .dataframe tbody tr th {\n",
       "        vertical-align: top;\n",
       "    }\n",
       "\n",
       "    .dataframe thead th {\n",
       "        text-align: right;\n",
       "    }\n",
       "</style>\n",
       "<table border=\"1\" class=\"dataframe\">\n",
       "  <thead>\n",
       "    <tr style=\"text-align: right;\">\n",
       "      <th></th>\n",
       "      <th>daily</th>\n",
       "      <th>sunday</th>\n",
       "    </tr>\n",
       "  </thead>\n",
       "  <tbody>\n",
       "    <tr>\n",
       "      <th>0</th>\n",
       "      <td>391.952</td>\n",
       "      <td>488.506</td>\n",
       "    </tr>\n",
       "    <tr>\n",
       "      <th>1</th>\n",
       "      <td>516.981</td>\n",
       "      <td>798.298</td>\n",
       "    </tr>\n",
       "    <tr>\n",
       "      <th>2</th>\n",
       "      <td>355.628</td>\n",
       "      <td>235.084</td>\n",
       "    </tr>\n",
       "    <tr>\n",
       "      <th>3</th>\n",
       "      <td>238.555</td>\n",
       "      <td>299.451</td>\n",
       "    </tr>\n",
       "    <tr>\n",
       "      <th>4</th>\n",
       "      <td>537.780</td>\n",
       "      <td>559.093</td>\n",
       "    </tr>\n",
       "    <tr>\n",
       "      <th>5</th>\n",
       "      <td>733.775</td>\n",
       "      <td>1133.249</td>\n",
       "    </tr>\n",
       "    <tr>\n",
       "      <th>6</th>\n",
       "      <td>198.832</td>\n",
       "      <td>348.744</td>\n",
       "    </tr>\n",
       "    <tr>\n",
       "      <th>7</th>\n",
       "      <td>252.624</td>\n",
       "      <td>417.779</td>\n",
       "    </tr>\n",
       "    <tr>\n",
       "      <th>8</th>\n",
       "      <td>206.204</td>\n",
       "      <td>344.522</td>\n",
       "    </tr>\n",
       "    <tr>\n",
       "      <th>9</th>\n",
       "      <td>231.177</td>\n",
       "      <td>323.084</td>\n",
       "    </tr>\n",
       "    <tr>\n",
       "      <th>10</th>\n",
       "      <td>449.755</td>\n",
       "      <td>620.752</td>\n",
       "    </tr>\n",
       "    <tr>\n",
       "      <th>11</th>\n",
       "      <td>288.571</td>\n",
       "      <td>423.305</td>\n",
       "    </tr>\n",
       "    <tr>\n",
       "      <th>12</th>\n",
       "      <td>185.736</td>\n",
       "      <td>202.614</td>\n",
       "    </tr>\n",
       "    <tr>\n",
       "      <th>13</th>\n",
       "      <td>1164.388</td>\n",
       "      <td>1531.527</td>\n",
       "    </tr>\n",
       "    <tr>\n",
       "      <th>14</th>\n",
       "      <td>444.581</td>\n",
       "      <td>553.479</td>\n",
       "    </tr>\n",
       "    <tr>\n",
       "      <th>15</th>\n",
       "      <td>412.871</td>\n",
       "      <td>685.975</td>\n",
       "    </tr>\n",
       "    <tr>\n",
       "      <th>16</th>\n",
       "      <td>272.280</td>\n",
       "      <td>324.241</td>\n",
       "    </tr>\n",
       "    <tr>\n",
       "      <th>17</th>\n",
       "      <td>781.796</td>\n",
       "      <td>983.240</td>\n",
       "    </tr>\n",
       "    <tr>\n",
       "      <th>18</th>\n",
       "      <td>1209.225</td>\n",
       "      <td>1762.015</td>\n",
       "    </tr>\n",
       "    <tr>\n",
       "      <th>19</th>\n",
       "      <td>825.512</td>\n",
       "      <td>960.308</td>\n",
       "    </tr>\n",
       "    <tr>\n",
       "      <th>20</th>\n",
       "      <td>223.748</td>\n",
       "      <td>284.611</td>\n",
       "    </tr>\n",
       "    <tr>\n",
       "      <th>21</th>\n",
       "      <td>354.843</td>\n",
       "      <td>407.760</td>\n",
       "    </tr>\n",
       "    <tr>\n",
       "      <th>22</th>\n",
       "      <td>515.523</td>\n",
       "      <td>982.663</td>\n",
       "    </tr>\n",
       "    <tr>\n",
       "      <th>23</th>\n",
       "      <td>220.465</td>\n",
       "      <td>557.000</td>\n",
       "    </tr>\n",
       "    <tr>\n",
       "      <th>24</th>\n",
       "      <td>337.672</td>\n",
       "      <td>440.923</td>\n",
       "    </tr>\n",
       "    <tr>\n",
       "      <th>25</th>\n",
       "      <td>197.120</td>\n",
       "      <td>268.060</td>\n",
       "    </tr>\n",
       "    <tr>\n",
       "      <th>26</th>\n",
       "      <td>133.239</td>\n",
       "      <td>262.048</td>\n",
       "    </tr>\n",
       "    <tr>\n",
       "      <th>27</th>\n",
       "      <td>374.009</td>\n",
       "      <td>432.502</td>\n",
       "    </tr>\n",
       "    <tr>\n",
       "      <th>28</th>\n",
       "      <td>273.844</td>\n",
       "      <td>338.355</td>\n",
       "    </tr>\n",
       "    <tr>\n",
       "      <th>29</th>\n",
       "      <td>570.364</td>\n",
       "      <td>704.322</td>\n",
       "    </tr>\n",
       "    <tr>\n",
       "      <th>30</th>\n",
       "      <td>391.286</td>\n",
       "      <td>585.681</td>\n",
       "    </tr>\n",
       "    <tr>\n",
       "      <th>31</th>\n",
       "      <td>201.860</td>\n",
       "      <td>267.781</td>\n",
       "    </tr>\n",
       "    <tr>\n",
       "      <th>32</th>\n",
       "      <td>321.626</td>\n",
       "      <td>408.343</td>\n",
       "    </tr>\n",
       "    <tr>\n",
       "      <th>33</th>\n",
       "      <td>838.902</td>\n",
       "      <td>1165.567</td>\n",
       "    </tr>\n",
       "  </tbody>\n",
       "</table>\n",
       "</div>"
      ],
      "text/plain": [
       "       daily    sunday\n",
       "0    391.952   488.506\n",
       "1    516.981   798.298\n",
       "2    355.628   235.084\n",
       "3    238.555   299.451\n",
       "4    537.780   559.093\n",
       "5    733.775  1133.249\n",
       "6    198.832   348.744\n",
       "7    252.624   417.779\n",
       "8    206.204   344.522\n",
       "9    231.177   323.084\n",
       "10   449.755   620.752\n",
       "11   288.571   423.305\n",
       "12   185.736   202.614\n",
       "13  1164.388  1531.527\n",
       "14   444.581   553.479\n",
       "15   412.871   685.975\n",
       "16   272.280   324.241\n",
       "17   781.796   983.240\n",
       "18  1209.225  1762.015\n",
       "19   825.512   960.308\n",
       "20   223.748   284.611\n",
       "21   354.843   407.760\n",
       "22   515.523   982.663\n",
       "23   220.465   557.000\n",
       "24   337.672   440.923\n",
       "25   197.120   268.060\n",
       "26   133.239   262.048\n",
       "27   374.009   432.502\n",
       "28   273.844   338.355\n",
       "29   570.364   704.322\n",
       "30   391.286   585.681\n",
       "31   201.860   267.781\n",
       "32   321.626   408.343\n",
       "33   838.902  1165.567"
      ]
     },
     "execution_count": 46,
     "metadata": {},
     "output_type": "execute_result"
    }
   ],
   "source": [
    "df"
   ]
  },
  {
   "cell_type": "code",
   "execution_count": 50,
   "id": "478c6da7-cfd8-4083-a03e-89630d3dcc67",
   "metadata": {},
   "outputs": [
    {
     "data": {
      "text/plain": [
       "0"
      ]
     },
     "execution_count": 50,
     "metadata": {},
     "output_type": "execute_result"
    }
   ],
   "source": [
    "df['daily'].isnull().sum()"
   ]
  },
  {
   "cell_type": "code",
   "execution_count": 52,
   "id": "91b22992-903f-45d3-a045-71758a99d937",
   "metadata": {},
   "outputs": [
    {
     "data": {
      "text/plain": [
       "daily     0\n",
       "sunday    0\n",
       "dtype: int64"
      ]
     },
     "execution_count": 52,
     "metadata": {},
     "output_type": "execute_result"
    }
   ],
   "source": [
    "df.isnull().sum()"
   ]
  },
  {
   "cell_type": "code",
   "execution_count": 54,
   "id": "9065c6f6-ff76-48ae-9fa4-e3b0277b4b60",
   "metadata": {},
   "outputs": [
    {
     "data": {
      "text/plain": [
       "Index(['daily', 'sunday'], dtype='object')"
      ]
     },
     "execution_count": 54,
     "metadata": {},
     "output_type": "execute_result"
    }
   ],
   "source": [
    "df.columns"
   ]
  },
  {
   "cell_type": "code",
   "execution_count": 56,
   "id": "4fd27937-4ca3-467f-ac0e-8c04c2369f75",
   "metadata": {},
   "outputs": [
    {
     "data": {
      "text/plain": [
       "daily     float64\n",
       "sunday    float64\n",
       "dtype: object"
      ]
     },
     "execution_count": 56,
     "metadata": {},
     "output_type": "execute_result"
    }
   ],
   "source": [
    "df.dtypes"
   ]
  },
  {
   "cell_type": "code",
   "execution_count": 58,
   "id": "9c3cfdae-2856-43dc-809b-fda388910839",
   "metadata": {},
   "outputs": [
    {
     "data": {
      "text/plain": [
       "(34, 2)"
      ]
     },
     "execution_count": 58,
     "metadata": {},
     "output_type": "execute_result"
    }
   ],
   "source": [
    "df.shape"
   ]
  },
  {
   "cell_type": "code",
   "execution_count": 60,
   "id": "ac13a010-199a-4c5b-bbdb-2e87a1243a77",
   "metadata": {},
   "outputs": [
    {
     "data": {
      "text/plain": [
       "2"
      ]
     },
     "execution_count": 60,
     "metadata": {},
     "output_type": "execute_result"
    }
   ],
   "source": [
    "df.ndim"
   ]
  },
  {
   "cell_type": "code",
   "execution_count": 68,
   "id": "b9c72382-fb6c-416f-9bb4-eb01436a095f",
   "metadata": {},
   "outputs": [],
   "source": [
    "#for null values:imputation\n",
    "#if  no outliers are present - fill mean\n",
    "#if outliers are present - median\n",
    "#categorical null values - mode"
   ]
  },
  {
   "cell_type": "code",
   "execution_count": null,
   "id": "ff8e10bf-6ce2-49f8-bb43-27ba1bf74f73",
   "metadata": {},
   "outputs": [],
   "source": [
    "assumption check"
   ]
  },
  {
   "cell_type": "code",
   "execution_count": null,
   "id": "b5fdd1ad-a5f7-4c7c-96db-1be39f7dd666",
   "metadata": {},
   "outputs": [],
   "source": [
    "1,linearity test-corr b/w feature and target"
   ]
  },
  {
   "cell_type": "code",
   "execution_count": 72,
   "id": "0a8a1698-19bd-4b17-b61a-497fdaa1ca90",
   "metadata": {},
   "outputs": [
    {
     "data": {
      "image/png": "[encoded data removed]",
      "text/plain": [
       "<Figure size 640x480 with 1 Axes>"
      ]
     },
     "metadata": {},
     "output_type": "display_data"
    }
   ],
   "source": [
    "sns.scatterplot(data=df,x='daily',y='sunday')\n",
    "plt.title('Daily vs Sunday circulation')\n",
    "plt.show()"
   ]
  },
  {
   "cell_type": "code",
   "execution_count": null,
   "id": "d6e7ff22-7192-4d63-b9e1-f851a3f4f44c",
   "metadata": {},
   "outputs": [],
   "source": [
    "2.normality test\n",
    "#only for feature we will check distribution"
   ]
  },
  {
   "cell_type": "code",
   "execution_count": 78,
   "id": "0af337c9-780c-49c2-8bbd-2c89111f4aa3",
   "metadata": {},
   "outputs": [
    {
     "data": {
      "image/png": "[encoded data removed]",
      "text/plain": [
       "<Figure size 640x480 with 1 Axes>"
      ]
     },
     "metadata": {},
     "output_type": "display_data"
    }
   ],
   "source": [
    "sns.distplot(a=df['daily'],hist=False)\n",
    "plt.show()"
   ]
  },
  {
   "cell_type": "code",
   "execution_count": null,
   "id": "1d7ed64f-0edf-4886-9ef3-e67dc7d92818",
   "metadata": {},
   "outputs": [],
   "source": [
    "#right skew-not 100% normally distributed"
   ]
  },
  {
   "cell_type": "code",
   "execution_count": null,
   "id": "04a4cc82-7c37-414f-93e6-b00986cae231",
   "metadata": {},
   "outputs": [],
   "source": [
    "we have only 1 feature so no need to check multi-collinearity using-correlation matrix and VIF"
   ]
  },
  {
   "cell_type": "code",
   "execution_count": null,
   "id": "ae51507f-1cc9-45fc-b2e4-d4a9a03138ef",
   "metadata": {},
   "outputs": [],
   "source": [
    "4.no time based input in input features"
   ]
  },
  {
   "cell_type": "code",
   "execution_count": null,
   "id": "60691277-72ad-4727-9b4f-10b02e6cd235",
   "metadata": {},
   "outputs": [],
   "source": [
    "linear regression model building using stats model and sklearn library"
   ]
  },
  {
   "cell_type": "code",
   "execution_count": null,
   "id": "455322f2-848a-4bcd-bcdc-04059c164a94",
   "metadata": {},
   "outputs": [],
   "source": [
    "in stats model,model building and model training happen at same time using OLS technique(ordinary lis square)"
   ]
  },
  {
   "cell_type": "code",
   "execution_count": 80,
   "id": "26bd7c61-5675-4f03-81fb-7403662d913b",
   "metadata": {},
   "outputs": [],
   "source": [
    "import statsmodels.formula.api as smf"
   ]
  },
  {
   "cell_type": "code",
   "execution_count": 88,
   "id": "b133598a-b86c-420c-a3fd-4ed9d63bb8be",
   "metadata": {},
   "outputs": [
    {
     "data": {
      "text/plain": [
       "<statsmodels.regression.linear_model.RegressionResultsWrapper at 0x1e6ef0498d0>"
      ]
     },
     "execution_count": 88,
     "metadata": {},
     "output_type": "execute_result"
    }
   ],
   "source": [
    "#model building\n",
    "#formula-(target-tilt-feature+feature+...)\n",
    "#.fit() is for model training\n",
    "linear_model = smf.ols(formula = 'sunday~daily',data=df).fit()\n",
    "linear_model"
   ]
  },
  {
   "cell_type": "code",
   "execution_count": 90,
   "id": "49c80573-c9d8-407f-bba7-607a5defdf6e",
   "metadata": {},
   "outputs": [
    {
     "data": {
      "text/plain": [
       "Intercept    13.835630\n",
       "daily         1.339715\n",
       "dtype: float64"
      ]
     },
     "execution_count": 90,
     "metadata": {},
     "output_type": "execute_result"
    }
   ],
   "source": [
    "linear_model.params"
   ]
  },
  {
   "cell_type": "code",
   "execution_count": null,
   "id": "f45805e2-d5a1-4278-8998-5add80f30e55",
   "metadata": {},
   "outputs": [],
   "source": [
    "#daily is slope(m)(slope will varies for feature)\n",
    "#intercept = c or beta\n",
    "#calculate y-calculated(y=mx+c) it won't be 100% accurate as it is not 100% normally distributed."
   ]
  },
  {
   "cell_type": "code",
   "execution_count": 102,
   "id": "25e36817-4669-4805-92e3-1cb94fa49b4b",
   "metadata": {},
   "outputs": [
    {
     "data": {
      "text/plain": [
       "538.6237279999999"
      ]
     },
     "execution_count": 102,
     "metadata": {},
     "output_type": "execute_result"
    }
   ],
   "source": [
    "y=1.339*391.952+13.8\n",
    "y"
   ]
  },
  {
   "cell_type": "code",
   "execution_count": 96,
   "id": "39ed687c-7a71-4eef-8e7b-89a6eb345b41",
   "metadata": {},
   "outputs": [
    {
     "data": {
      "text/plain": [
       "array([ 538.93950861,  706.44270505,  490.27570976,  333.43128393,\n",
       "        734.3074323 ,  996.88482623,  280.21379461,  352.27973085,\n",
       "        290.0901718 ,  323.54686845,  616.37904075,  400.43845725,\n",
       "        262.66889014, 1573.78341718,  609.4473566 ,  566.96500163,\n",
       "        378.61316413, 1061.21926861, 1633.85220777, 1119.78623895,\n",
       "        313.59412751,  489.22403367,  704.48940094,  309.19584396,\n",
       "        466.21979157,  277.92020294,  192.33788451,  514.90100672,\n",
       "        380.70847801,  777.96069796,  538.04725858,  284.2704509 ,\n",
       "        444.72272856, 1137.72501956])"
      ]
     },
     "execution_count": 96,
     "metadata": {},
     "output_type": "execute_result"
    }
   ],
   "source": [
    "pred=linear_model.predict()\n",
    "pred"
   ]
  },
  {
   "cell_type": "code",
   "execution_count": 106,
   "id": "6bcfcfee-3afd-4d54-b1af-cda5a37c6262",
   "metadata": {},
   "outputs": [
    {
     "data": {
      "text/plain": [
       "0     -50.433509\n",
       "1      91.855295\n",
       "2    -255.191710\n",
       "3     -33.980284\n",
       "4    -175.214432\n",
       "5     136.364174\n",
       "6      68.530205\n",
       "7      65.499269\n",
       "8      54.431828\n",
       "9      -0.462868\n",
       "10      4.372959\n",
       "11     22.866543\n",
       "12    -60.054890\n",
       "13    -42.256417\n",
       "14    -55.968357\n",
       "15    119.009998\n",
       "16    -54.372164\n",
       "17    -77.979269\n",
       "18    128.162792\n",
       "19   -159.478239\n",
       "20    -28.983128\n",
       "21    -81.464034\n",
       "22    278.173599\n",
       "23    247.804156\n",
       "24    -25.296792\n",
       "25     -9.860203\n",
       "26     69.710115\n",
       "27    -82.399007\n",
       "28    -42.353478\n",
       "29    -73.638698\n",
       "30     47.633741\n",
       "31    -16.489451\n",
       "32    -36.379729\n",
       "33     27.841980\n",
       "Name: sunday, dtype: float64"
      ]
     },
     "execution_count": 106,
     "metadata": {},
     "output_type": "execute_result"
    }
   ],
   "source": [
    "error=df.sunday-pred\n",
    "error"
   ]
  },
  {
   "cell_type": "code",
   "execution_count": null,
   "id": "f587fcb5-706d-4a20-9cbc-029619d91cba",
   "metadata": {},
   "outputs": [],
   "source": [
    "#model evaluation"
   ]
  },
  {
   "cell_type": "code",
   "execution_count": 110,
   "id": "55bd3938-c1d0-49ba-aece-8d0c6ed87fc8",
   "metadata": {},
   "outputs": [
    {
     "data": {
      "text/html": [
       "<table class=\"simpletable\">\n",
       "<caption>OLS Regression Results</caption>\n",
       "<tr>\n",
       "  <th>Dep. Variable:</th>         <td>sunday</td>      <th>  R-squared:         </th> <td>   0.918</td>\n",
       "</tr>\n",
       "<tr>\n",
       "  <th>Model:</th>                   <td>OLS</td>       <th>  Adj. R-squared:    </th> <td>   0.915</td>\n",
       "</tr>\n",
       "<tr>\n",
       "  <th>Method:</th>             <td>Least Squares</td>  <th>  F-statistic:       </th> <td>   358.5</td>\n",
       "</tr>\n",
       "<tr>\n",
       "  <th>Date:</th>             <td>Fri, 09 Aug 2024</td> <th>  Prob (F-statistic):</th> <td>6.02e-19</td>\n",
       "</tr>\n",
       "<tr>\n",
       "  <th>Time:</th>                 <td>12:07:15</td>     <th>  Log-Likelihood:    </th> <td> -206.85</td>\n",
       "</tr>\n",
       "<tr>\n",
       "  <th>No. Observations:</th>      <td>    34</td>      <th>  AIC:               </th> <td>   417.7</td>\n",
       "</tr>\n",
       "<tr>\n",
       "  <th>Df Residuals:</th>          <td>    32</td>      <th>  BIC:               </th> <td>   420.8</td>\n",
       "</tr>\n",
       "<tr>\n",
       "  <th>Df Model:</th>              <td>     1</td>      <th>                     </th>     <td> </td>   \n",
       "</tr>\n",
       "<tr>\n",
       "  <th>Covariance Type:</th>      <td>nonrobust</td>    <th>                     </th>     <td> </td>   \n",
       "</tr>\n",
       "</table>\n",
       "<table class=\"simpletable\">\n",
       "<tr>\n",
       "      <td></td>         <th>coef</th>     <th>std err</th>      <th>t</th>      <th>P>|t|</th>  <th>[0.025</th>    <th>0.975]</th>  \n",
       "</tr>\n",
       "<tr>\n",
       "  <th>Intercept</th> <td>   13.8356</td> <td>   35.804</td> <td>    0.386</td> <td> 0.702</td> <td>  -59.095</td> <td>   86.766</td>\n",
       "</tr>\n",
       "<tr>\n",
       "  <th>daily</th>     <td>    1.3397</td> <td>    0.071</td> <td>   18.935</td> <td> 0.000</td> <td>    1.196</td> <td>    1.484</td>\n",
       "</tr>\n",
       "</table>\n",
       "<table class=\"simpletable\">\n",
       "<tr>\n",
       "  <th>Omnibus:</th>       <td> 3.297</td> <th>  Durbin-Watson:     </th> <td>   2.059</td>\n",
       "</tr>\n",
       "<tr>\n",
       "  <th>Prob(Omnibus):</th> <td> 0.192</td> <th>  Jarque-Bera (JB):  </th> <td>   1.990</td>\n",
       "</tr>\n",
       "<tr>\n",
       "  <th>Skew:</th>          <td> 0.396</td> <th>  Prob(JB):          </th> <td>   0.370</td>\n",
       "</tr>\n",
       "<tr>\n",
       "  <th>Kurtosis:</th>      <td> 3.882</td> <th>  Cond. No.          </th> <td>    965.</td>\n",
       "</tr>\n",
       "</table><br/><br/>Notes:<br/>[1] Standard Errors assume that the covariance matrix of the errors is correctly specified."
      ],
      "text/latex": [
       "\\begin{center}\n",
       "\\begin{tabular}{lclc}\n",
       "\\toprule\n",
       "\\textbf{Dep. Variable:}    &      sunday      & \\textbf{  R-squared:         } &     0.918   \\\\\n",
       "\\textbf{Model:}            &       OLS        & \\textbf{  Adj. R-squared:    } &     0.915   \\\\\n",
       "\\textbf{Method:}           &  Least Squares   & \\textbf{  F-statistic:       } &     358.5   \\\\\n",
       "\\textbf{Date:}             & Fri, 09 Aug 2024 & \\textbf{  Prob (F-statistic):} &  6.02e-19   \\\\\n",
       "\\textbf{Time:}             &     12:07:15     & \\textbf{  Log-Likelihood:    } &   -206.85   \\\\\n",
       "\\textbf{No. Observations:} &          34      & \\textbf{  AIC:               } &     417.7   \\\\\n",
       "\\textbf{Df Residuals:}     &          32      & \\textbf{  BIC:               } &     420.8   \\\\\n",
       "\\textbf{Df Model:}         &           1      & \\textbf{                     } &             \\\\\n",
       "\\textbf{Covariance Type:}  &    nonrobust     & \\textbf{                     } &             \\\\\n",
       "\\bottomrule\n",
       "\\end{tabular}\n",
       "\\begin{tabular}{lcccccc}\n",
       "                   & \\textbf{coef} & \\textbf{std err} & \\textbf{t} & \\textbf{P$> |$t$|$} & \\textbf{[0.025} & \\textbf{0.975]}  \\\\\n",
       "\\midrule\n",
       "\\textbf{Intercept} &      13.8356  &       35.804     &     0.386  &         0.702        &      -59.095    &       86.766     \\\\\n",
       "\\textbf{daily}     &       1.3397  &        0.071     &    18.935  &         0.000        &        1.196    &        1.484     \\\\\n",
       "\\bottomrule\n",
       "\\end{tabular}\n",
       "\\begin{tabular}{lclc}\n",
       "\\textbf{Omnibus:}       &  3.297 & \\textbf{  Durbin-Watson:     } &    2.059  \\\\\n",
       "\\textbf{Prob(Omnibus):} &  0.192 & \\textbf{  Jarque-Bera (JB):  } &    1.990  \\\\\n",
       "\\textbf{Skew:}          &  0.396 & \\textbf{  Prob(JB):          } &    0.370  \\\\\n",
       "\\textbf{Kurtosis:}      &  3.882 & \\textbf{  Cond. No.          } &     965.  \\\\\n",
       "\\bottomrule\n",
       "\\end{tabular}\n",
       "%\\caption{OLS Regression Results}\n",
       "\\end{center}\n",
       "\n",
       "Notes: \\newline\n",
       " [1] Standard Errors assume that the covariance matrix of the errors is correctly specified."
      ],
      "text/plain": [
       "<class 'statsmodels.iolib.summary.Summary'>\n",
       "\"\"\"\n",
       "                            OLS Regression Results                            \n",
       "==============================================================================\n",
       "Dep. Variable:                 sunday   R-squared:                       0.918\n",
       "Model:                            OLS   Adj. R-squared:                  0.915\n",
       "Method:                 Least Squares   F-statistic:                     358.5\n",
       "Date:                Fri, 09 Aug 2024   Prob (F-statistic):           6.02e-19\n",
       "Time:                        12:07:15   Log-Likelihood:                -206.85\n",
       "No. Observations:                  34   AIC:                             417.7\n",
       "Df Residuals:                      32   BIC:                             420.8\n",
       "Df Model:                           1                                         \n",
       "Covariance Type:            nonrobust                                         \n",
       "==============================================================================\n",
       "                 coef    std err          t      P>|t|      [0.025      0.975]\n",
       "------------------------------------------------------------------------------\n",
       "Intercept     13.8356     35.804      0.386      0.702     -59.095      86.766\n",
       "daily          1.3397      0.071     18.935      0.000       1.196       1.484\n",
       "==============================================================================\n",
       "Omnibus:                        3.297   Durbin-Watson:                   2.059\n",
       "Prob(Omnibus):                  0.192   Jarque-Bera (JB):                1.990\n",
       "Skew:                           0.396   Prob(JB):                        0.370\n",
       "Kurtosis:                       3.882   Cond. No.                         965.\n",
       "==============================================================================\n",
       "\n",
       "Notes:\n",
       "[1] Standard Errors assume that the covariance matrix of the errors is correctly specified.\n",
       "\"\"\""
      ]
     },
     "execution_count": 110,
     "metadata": {},
     "output_type": "execute_result"
    }
   ],
   "source": [
    "linear_model.summary()"
   ]
  },
  {
   "cell_type": "code",
   "execution_count": null,
   "id": "0ee73850-5816-4115-9f9b-6a593b60db64",
   "metadata": {},
   "outputs": [],
   "source": [
    "from p-value we reject the null hypothesis as 0.00<0.05"
   ]
  },
  {
   "cell_type": "code",
   "execution_count": 131,
   "id": "f0fac5e1-a79d-492a-9c98-62c08dc8ef8d",
   "metadata": {},
   "outputs": [],
   "source": [
    "df1=pd.DataFrame(data={'daily':[256.78,398.56,653.98,444.19,985.12]})"
   ]
  },
  {
   "cell_type": "code",
   "execution_count": 133,
   "id": "15a1571b-0547-4e44-9fa5-2b6ef52405ff",
   "metadata": {},
   "outputs": [
    {
     "data": {
      "text/html": [
       "<div>\n",
       "<style scoped>\n",
       "    .dataframe tbody tr th:only-of-type {\n",
       "        vertical-align: middle;\n",
       "    }\n",
       "\n",
       "    .dataframe tbody tr th {\n",
       "        vertical-align: top;\n",
       "    }\n",
       "\n",
       "    .dataframe thead th {\n",
       "        text-align: right;\n",
       "    }\n",
       "</style>\n",
       "<table border=\"1\" class=\"dataframe\">\n",
       "  <thead>\n",
       "    <tr style=\"text-align: right;\">\n",
       "      <th></th>\n",
       "      <th>daily</th>\n",
       "    </tr>\n",
       "  </thead>\n",
       "  <tbody>\n",
       "    <tr>\n",
       "      <th>0</th>\n",
       "      <td>256.78</td>\n",
       "    </tr>\n",
       "    <tr>\n",
       "      <th>1</th>\n",
       "      <td>398.56</td>\n",
       "    </tr>\n",
       "    <tr>\n",
       "      <th>2</th>\n",
       "      <td>653.98</td>\n",
       "    </tr>\n",
       "    <tr>\n",
       "      <th>3</th>\n",
       "      <td>444.19</td>\n",
       "    </tr>\n",
       "    <tr>\n",
       "      <th>4</th>\n",
       "      <td>985.12</td>\n",
       "    </tr>\n",
       "  </tbody>\n",
       "</table>\n",
       "</div>"
      ],
      "text/plain": [
       "    daily\n",
       "0  256.78\n",
       "1  398.56\n",
       "2  653.98\n",
       "3  444.19\n",
       "4  985.12"
      ]
     },
     "execution_count": 133,
     "metadata": {},
     "output_type": "execute_result"
    }
   ],
   "source": [
    "df1"
   ]
  },
  {
   "cell_type": "code",
   "execution_count": 137,
   "id": "be0a5aeb-8603-444a-b6f6-c9890f3820f7",
   "metadata": {},
   "outputs": [
    {
     "data": {
      "text/plain": [
       "0     357.847585\n",
       "1     547.792344\n",
       "2     889.982287\n",
       "3     608.923528\n",
       "4    1333.615432\n",
       "dtype: float64"
      ]
     },
     "execution_count": 137,
     "metadata": {},
     "output_type": "execute_result"
    }
   ],
   "source": [
    "linear_model.predict(df1.daily)\n"
   ]
  },
  {
   "cell_type": "code",
   "execution_count": null,
   "id": "b54705d6-73ef-4bf2-97f5-ae4c9d790302",
   "metadata": {},
   "outputs": [],
   "source": []
  },
  {
   "cell_type": "code",
   "execution_count": null,
   "id": "80e9e67a-7fad-4ebd-a481-a5ff788ad5af",
   "metadata": {},
   "outputs": [],
   "source": []
  }
 ],
 "metadata": {
  "kernelspec": {
   "display_name": "Python 3 (ipykernel)",
   "language": "python",
   "name": "python3"
  },
  "language_info": {
   "codemirror_mode": {
    "name": "ipython",
    "version": 3
   },
   "file_extension": ".py",
   "mimetype": "text/x-python",
   "name": "python",
   "nbconvert_exporter": "python",
   "pygments_lexer": "ipython3",
   "version": "3.11.7"
  }
 },
 "nbformat": 4,
 "nbformat_minor": 5
}
